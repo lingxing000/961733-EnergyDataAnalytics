{
  "nbformat": 4,
  "nbformat_minor": 0,
  "metadata": {
    "colab": {
      "name": "PT_Sinthorn_Sentimental.ipynb",
      "provenance": [],
      "collapsed_sections": [],
      "authorship_tag": "ABX9TyPC15SlFucNWFhf87cHAxRv",
      "include_colab_link": true
    },
    "kernelspec": {
      "name": "python3",
      "display_name": "Python 3"
    },
    "accelerator": "GPU"
  },
  "cells": [
    {
      "cell_type": "markdown",
      "metadata": {
        "id": "view-in-github",
        "colab_type": "text"
      },
      "source": [
        "<a href=\"https://colab.research.google.com/github/preenet/961733-EnergyDataAnalytics/blob/master/PT_Sinthorn_Sentimental.ipynb\" target=\"_parent\"><img src=\"https://colab.research.google.com/assets/colab-badge.svg\" alt=\"Open In Colab\"/></a>"
      ]
    },
    {
      "cell_type": "code",
      "metadata": {
        "id": "qCFCNzWouvsR",
        "colab_type": "code",
        "outputId": "ce4b15ff-74a8-4b21-8d95-1932896313c6",
        "colab": {
          "base_uri": "https://localhost:8080/",
          "height": 34
        }
      },
      "source": [
        "# Sithorn pantip sentimental analysis (re-visit)\n",
        "# pree.t@cmu.ac.th\n",
        "# Pree Thiengburanathum, PhD.\n",
        "# Re-do the Non's work, using different apporaches such as \n",
        "# logistic regression, naive bayes of the multinomial and bernoulli varieties with either pure counts or tfidf features\n",
        "# mount the data from cmu.ac.th gdrive\n",
        "\n",
        "from google.colab import drive\n",
        "\n",
        "drive.mount('/content/gdrive')\n"
      ],
      "execution_count": 1,
      "outputs": [
        {
          "output_type": "stream",
          "text": [
            "Drive already mounted at /content/gdrive; to attempt to forcibly remount, call drive.mount(\"/content/gdrive\", force_remount=True).\n"
          ],
          "name": "stdout"
        }
      ]
    },
    {
      "cell_type": "code",
      "metadata": {
        "id": "Ztq4swrw_FHN",
        "colab_type": "code",
        "outputId": "e36ac1b3-a94e-46d6-cf52-8ee27873146f",
        "colab": {
          "base_uri": "https://localhost:8080/",
          "height": 340
        }
      },
      "source": [
        "!pip install https://github.com/PyThaiNLP/pythainlp/archive/dev.zip\n"
      ],
      "execution_count": 2,
      "outputs": [
        {
          "output_type": "stream",
          "text": [
            "Collecting https://github.com/PyThaiNLP/pythainlp/archive/dev.zip\n",
            "  Using cached https://github.com/PyThaiNLP/pythainlp/archive/dev.zip\n",
            "Requirement already satisfied (use --upgrade to upgrade): pythainlp==2.2.0.dev0 from https://github.com/PyThaiNLP/pythainlp/archive/dev.zip in /usr/local/lib/python3.6/dist-packages\n",
            "Requirement already satisfied: dill>=0.3.0 in /usr/local/lib/python3.6/dist-packages (from pythainlp==2.2.0.dev0) (0.3.1.1)\n",
            "Requirement already satisfied: nltk>=3.3 in /usr/local/lib/python3.6/dist-packages (from pythainlp==2.2.0.dev0) (3.4.5)\n",
            "Requirement already satisfied: python-crfsuite>=0.9.6 in /usr/local/lib/python3.6/dist-packages (from pythainlp==2.2.0.dev0) (0.9.6)\n",
            "Requirement already satisfied: requests>=2.22.0 in /usr/local/lib/python3.6/dist-packages (from pythainlp==2.2.0.dev0) (2.22.0)\n",
            "Requirement already satisfied: tinydb>=3.0 in /usr/local/lib/python3.6/dist-packages (from pythainlp==2.2.0.dev0) (3.15.2)\n",
            "Requirement already satisfied: tqdm>=4.1 in /usr/local/lib/python3.6/dist-packages (from pythainlp==2.2.0.dev0) (4.28.1)\n",
            "Requirement already satisfied: six in /usr/local/lib/python3.6/dist-packages (from nltk>=3.3->pythainlp==2.2.0.dev0) (1.12.0)\n",
            "Requirement already satisfied: urllib3!=1.25.0,!=1.25.1,<1.26,>=1.21.1 in /usr/local/lib/python3.6/dist-packages (from requests>=2.22.0->pythainlp==2.2.0.dev0) (1.24.3)\n",
            "Requirement already satisfied: idna<2.9,>=2.5 in /usr/local/lib/python3.6/dist-packages (from requests>=2.22.0->pythainlp==2.2.0.dev0) (2.8)\n",
            "Requirement already satisfied: certifi>=2017.4.17 in /usr/local/lib/python3.6/dist-packages (from requests>=2.22.0->pythainlp==2.2.0.dev0) (2019.11.28)\n",
            "Requirement already satisfied: chardet<3.1.0,>=3.0.2 in /usr/local/lib/python3.6/dist-packages (from requests>=2.22.0->pythainlp==2.2.0.dev0) (3.0.4)\n",
            "Building wheels for collected packages: pythainlp\n",
            "  Building wheel for pythainlp (setup.py) ... \u001b[?25l\u001b[?25hdone\n",
            "  Created wheel for pythainlp: filename=pythainlp-2.2.0.dev0-cp36-none-any.whl size=12568549 sha256=e8b1c472c82e7cb70842857f13a900d9c78233b2ebb58ac6b4c9d2910660eb6a\n",
            "  Stored in directory: /tmp/pip-ephem-wheel-cache-6f5sis7b/wheels/79/4e/1e/26f3198c6712ecfbee92928ed1dde923a078da3d222401cc78\n",
            "Successfully built pythainlp\n"
          ],
          "name": "stdout"
        }
      ]
    },
    {
      "cell_type": "code",
      "metadata": {
        "id": "MgZb_mMEBvVl",
        "colab_type": "code",
        "outputId": "75c6fcf4-96d5-4e57-bec6-f7e3a71b1794",
        "colab": {
          "base_uri": "https://localhost:8080/",
          "height": 34
        }
      },
      "source": [
        "!nvidia-smi -L"
      ],
      "execution_count": 3,
      "outputs": [
        {
          "output_type": "stream",
          "text": [
            "GPU 0: Tesla P100-PCIE-16GB (UUID: GPU-1a2088ef-43b8-4a92-b01c-16da3102e033)\n"
          ],
          "name": "stdout"
        }
      ]
    },
    {
      "cell_type": "code",
      "metadata": {
        "id": "Zi6IugJ1w6vb",
        "colab_type": "code",
        "outputId": "0e25f047-8b33-4e0a-f58d-a18192fc3794",
        "colab": {
          "base_uri": "https://localhost:8080/",
          "height": 34
        }
      },
      "source": [
        "from google.colab import drive\n",
        "\n",
        "drive.mount('/content/gdrive')"
      ],
      "execution_count": 4,
      "outputs": [
        {
          "output_type": "stream",
          "text": [
            "Drive already mounted at /content/gdrive; to attempt to forcibly remount, call drive.mount(\"/content/gdrive\", force_remount=True).\n"
          ],
          "name": "stdout"
        }
      ]
    },
    {
      "cell_type": "code",
      "metadata": {
        "id": "yJR1wir2w_pS",
        "colab_type": "code",
        "outputId": "2a456b2a-dcbf-4bfa-b67d-2de771791075",
        "colab": {
          "base_uri": "https://localhost:8080/",
          "height": 34
        }
      },
      "source": [
        "!ls \"/content/gdrive/My Drive/Colab Notebooks/PantipSithorn\""
      ],
      "execution_count": 5,
      "outputs": [
        {
          "output_type": "stream",
          "text": [
            "correction.txt\tpretrained_wiki\n"
          ],
          "name": "stdout"
        }
      ]
    },
    {
      "cell_type": "code",
      "metadata": {
        "id": "emxoFeazxR3T",
        "colab_type": "code",
        "colab": {}
      },
      "source": [
        "import pandas as pd\n",
        "path = '/content/gdrive/My Drive/Colab Notebooks/PantipSithorn/'"
      ],
      "execution_count": 0,
      "outputs": []
    },
    {
      "cell_type": "code",
      "metadata": {
        "id": "jbN0AtfXxgDK",
        "colab_type": "code",
        "colab": {}
      },
      "source": [
        "df = pd.read_csv(path+'correction.txt')"
      ],
      "execution_count": 0,
      "outputs": []
    },
    {
      "cell_type": "code",
      "metadata": {
        "id": "7GPAqtaSxlgb",
        "colab_type": "code",
        "outputId": "f3cd9819-283b-458a-bc2a-f8906728d9f7",
        "colab": {
          "base_uri": "https://localhost:8080/",
          "height": 297
        }
      },
      "source": [
        "df.describe()"
      ],
      "execution_count": 8,
      "outputs": [
        {
          "output_type": "execute_result",
          "data": {
            "text/html": [
              "<div>\n",
              "<style scoped>\n",
              "    .dataframe tbody tr th:only-of-type {\n",
              "        vertical-align: middle;\n",
              "    }\n",
              "\n",
              "    .dataframe tbody tr th {\n",
              "        vertical-align: top;\n",
              "    }\n",
              "\n",
              "    .dataframe thead th {\n",
              "        text-align: right;\n",
              "    }\n",
              "</style>\n",
              "<table border=\"1\" class=\"dataframe\">\n",
              "  <thead>\n",
              "    <tr style=\"text-align: right;\">\n",
              "      <th></th>\n",
              "      <th>result</th>\n",
              "    </tr>\n",
              "  </thead>\n",
              "  <tbody>\n",
              "    <tr>\n",
              "      <th>count</th>\n",
              "      <td>3789.000000</td>\n",
              "    </tr>\n",
              "    <tr>\n",
              "      <th>mean</th>\n",
              "      <td>0.377408</td>\n",
              "    </tr>\n",
              "    <tr>\n",
              "      <th>std</th>\n",
              "      <td>0.913975</td>\n",
              "    </tr>\n",
              "    <tr>\n",
              "      <th>min</th>\n",
              "      <td>-1.000000</td>\n",
              "    </tr>\n",
              "    <tr>\n",
              "      <th>25%</th>\n",
              "      <td>-1.000000</td>\n",
              "    </tr>\n",
              "    <tr>\n",
              "      <th>50%</th>\n",
              "      <td>1.000000</td>\n",
              "    </tr>\n",
              "    <tr>\n",
              "      <th>75%</th>\n",
              "      <td>1.000000</td>\n",
              "    </tr>\n",
              "    <tr>\n",
              "      <th>max</th>\n",
              "      <td>1.000000</td>\n",
              "    </tr>\n",
              "  </tbody>\n",
              "</table>\n",
              "</div>"
            ],
            "text/plain": [
              "            result\n",
              "count  3789.000000\n",
              "mean      0.377408\n",
              "std       0.913975\n",
              "min      -1.000000\n",
              "25%      -1.000000\n",
              "50%       1.000000\n",
              "75%       1.000000\n",
              "max       1.000000"
            ]
          },
          "metadata": {
            "tags": []
          },
          "execution_count": 8
        }
      ]
    },
    {
      "cell_type": "code",
      "metadata": {
        "id": "v-d3RR1oyvTT",
        "colab_type": "code",
        "outputId": "9d6a21e8-5d34-495b-fec5-9d37387f0d05",
        "colab": {
          "base_uri": "https://localhost:8080/",
          "height": 136
        }
      },
      "source": [
        "# find meta and basic info\n",
        "df.info()"
      ],
      "execution_count": 9,
      "outputs": [
        {
          "output_type": "stream",
          "text": [
            "<class 'pandas.core.frame.DataFrame'>\n",
            "RangeIndex: 3789 entries, 0 to 3788\n",
            "Data columns (total 2 columns):\n",
            "result        3789 non-null int64\n",
            "correction    3759 non-null object\n",
            "dtypes: int64(1), object(1)\n",
            "memory usage: 59.3+ KB\n"
          ],
          "name": "stdout"
        }
      ]
    },
    {
      "cell_type": "code",
      "metadata": {
        "id": "9RK0qvsj4bYg",
        "colab_type": "code",
        "outputId": "038a584a-5ea4-4900-97ae-e525d106ee85",
        "colab": {
          "base_uri": "https://localhost:8080/",
          "height": 142
        }
      },
      "source": [
        "df.head(3)"
      ],
      "execution_count": 10,
      "outputs": [
        {
          "output_type": "execute_result",
          "data": {
            "text/html": [
              "<div>\n",
              "<style scoped>\n",
              "    .dataframe tbody tr th:only-of-type {\n",
              "        vertical-align: middle;\n",
              "    }\n",
              "\n",
              "    .dataframe tbody tr th {\n",
              "        vertical-align: top;\n",
              "    }\n",
              "\n",
              "    .dataframe thead th {\n",
              "        text-align: right;\n",
              "    }\n",
              "</style>\n",
              "<table border=\"1\" class=\"dataframe\">\n",
              "  <thead>\n",
              "    <tr style=\"text-align: right;\">\n",
              "      <th></th>\n",
              "      <th>result</th>\n",
              "      <th>correction</th>\n",
              "    </tr>\n",
              "  </thead>\n",
              "  <tbody>\n",
              "    <tr>\n",
              "      <th>0</th>\n",
              "      <td>-1</td>\n",
              "      <td>ตำรา,คุณปู่,ไม่เชื่อ,ต้องตาม,ดู</td>\n",
              "    </tr>\n",
              "    <tr>\n",
              "      <th>1</th>\n",
              "      <td>-1</td>\n",
              "      <td>หรั่ง,เล่น,งี้,รอบ,อัด,ตอน,ATO</td>\n",
              "    </tr>\n",
              "    <tr>\n",
              "      <th>2</th>\n",
              "      <td>1</td>\n",
              "      <td>ปู่,ชอบ,เล่น,รถไฟ,เหาะ,ลาก,ขึ้นไป,รอ,เม่า,นั่ง...</td>\n",
              "    </tr>\n",
              "  </tbody>\n",
              "</table>\n",
              "</div>"
            ],
            "text/plain": [
              "   result                                         correction\n",
              "0      -1                    ตำรา,คุณปู่,ไม่เชื่อ,ต้องตาม,ดู\n",
              "1      -1                     หรั่ง,เล่น,งี้,รอบ,อัด,ตอน,ATO\n",
              "2       1  ปู่,ชอบ,เล่น,รถไฟ,เหาะ,ลาก,ขึ้นไป,รอ,เม่า,นั่ง..."
            ]
          },
          "metadata": {
            "tags": []
          },
          "execution_count": 10
        }
      ]
    },
    {
      "cell_type": "code",
      "metadata": {
        "id": "fCDjAPMp4hlY",
        "colab_type": "code",
        "outputId": "27d41dcf-cb5a-42c9-9861-bf029e8f7835",
        "colab": {
          "base_uri": "https://localhost:8080/",
          "height": 142
        }
      },
      "source": [
        "df.tail(3)"
      ],
      "execution_count": 11,
      "outputs": [
        {
          "output_type": "execute_result",
          "data": {
            "text/html": [
              "<div>\n",
              "<style scoped>\n",
              "    .dataframe tbody tr th:only-of-type {\n",
              "        vertical-align: middle;\n",
              "    }\n",
              "\n",
              "    .dataframe tbody tr th {\n",
              "        vertical-align: top;\n",
              "    }\n",
              "\n",
              "    .dataframe thead th {\n",
              "        text-align: right;\n",
              "    }\n",
              "</style>\n",
              "<table border=\"1\" class=\"dataframe\">\n",
              "  <thead>\n",
              "    <tr style=\"text-align: right;\">\n",
              "      <th></th>\n",
              "      <th>result</th>\n",
              "      <th>correction</th>\n",
              "    </tr>\n",
              "  </thead>\n",
              "  <tbody>\n",
              "    <tr>\n",
              "      <th>3786</th>\n",
              "      <td>1</td>\n",
              "      <td>แบบนี้,👍🏻👍🏻</td>\n",
              "    </tr>\n",
              "    <tr>\n",
              "      <th>3787</th>\n",
              "      <td>0</td>\n",
              "      <td>จ่าย,อะ,ไหม</td>\n",
              "    </tr>\n",
              "    <tr>\n",
              "      <th>3788</th>\n",
              "      <td>-1</td>\n",
              "      <td>ขอรับ,รอ,tracking,ขอรับ,555</td>\n",
              "    </tr>\n",
              "  </tbody>\n",
              "</table>\n",
              "</div>"
            ],
            "text/plain": [
              "      result                   correction\n",
              "3786       1                  แบบนี้,👍🏻👍🏻\n",
              "3787       0                  จ่าย,อะ,ไหม\n",
              "3788      -1  ขอรับ,รอ,tracking,ขอรับ,555"
            ]
          },
          "metadata": {
            "tags": []
          },
          "execution_count": 11
        }
      ]
    },
    {
      "cell_type": "code",
      "metadata": {
        "id": "xy6kEtVBzlS3",
        "colab_type": "code",
        "outputId": "4f7e707e-3ec5-4169-946b-ba23aba73851",
        "colab": {
          "base_uri": "https://localhost:8080/",
          "height": 68
        }
      },
      "source": [
        "# check for any missing vlue\n",
        "df.isnull().sum()"
      ],
      "execution_count": 12,
      "outputs": [
        {
          "output_type": "execute_result",
          "data": {
            "text/plain": [
              "result         0\n",
              "correction    30\n",
              "dtype: int64"
            ]
          },
          "metadata": {
            "tags": []
          },
          "execution_count": 12
        }
      ]
    },
    {
      "cell_type": "code",
      "metadata": {
        "id": "6SPZvFQ_4gct",
        "colab_type": "code",
        "colab": {}
      },
      "source": [
        "# drop nan vaule\n",
        "\n",
        "df.dropna(subset=['correction'],inplace=True)"
      ],
      "execution_count": 0,
      "outputs": []
    },
    {
      "cell_type": "code",
      "metadata": {
        "id": "UQiQ_YMT0VFX",
        "colab_type": "code",
        "outputId": "6eb0cbac-9da4-41c9-8dc2-9c94d8354ead",
        "colab": {
          "base_uri": "https://localhost:8080/",
          "height": 85
        }
      },
      "source": [
        "df['result'].value_counts()"
      ],
      "execution_count": 14,
      "outputs": [
        {
          "output_type": "execute_result",
          "data": {
            "text/plain": [
              " 1    2552\n",
              "-1    1126\n",
              " 0      81\n",
              "Name: result, dtype: int64"
            ]
          },
          "metadata": {
            "tags": []
          },
          "execution_count": 14
        }
      ]
    },
    {
      "cell_type": "code",
      "metadata": {
        "id": "3XnCEn8AyKO7",
        "colab_type": "code",
        "colab": {}
      },
      "source": [
        "# drop the netreul class\n",
        "df = df.drop(df[df['result'] == 0].index)"
      ],
      "execution_count": 0,
      "outputs": []
    },
    {
      "cell_type": "code",
      "metadata": {
        "id": "MXIB6XQt1hz_",
        "colab_type": "code",
        "outputId": "e69abf76-97de-44a0-e760-a8366cdf5b86",
        "colab": {
          "base_uri": "https://localhost:8080/",
          "height": 68
        }
      },
      "source": [
        "# we now have a simple two class binary problem (ratio 1:2)\n",
        "df['result'].value_counts()"
      ],
      "execution_count": 16,
      "outputs": [
        {
          "output_type": "execute_result",
          "data": {
            "text/plain": [
              " 1    2552\n",
              "-1    1126\n",
              "Name: result, dtype: int64"
            ]
          },
          "metadata": {
            "tags": []
          },
          "execution_count": 16
        }
      ]
    },
    {
      "cell_type": "code",
      "metadata": {
        "id": "pCLJ7GZDHnEI",
        "colab_type": "code",
        "outputId": "fccc8bbc-ca12-440d-ac4b-43b5860fa06c",
        "colab": {
          "base_uri": "https://localhost:8080/",
          "height": 71
        }
      },
      "source": [
        "from pythainlp.word_vector import *\n",
        "from pythainlp import word_vector\n",
        "from sklearn.feature_extraction.text import CountVectorizer\n",
        "from sklearn.feature_extraction.text import TfidfVectorizer\n",
        "from sklearn.linear_model import LogisticRegression\n",
        "from sklearn.naive_bayes import BernoulliNB, MultinomialNB\n",
        "from sklearn.pipeline import Pipeline\n",
        "from sklearn.svm import SVC\n",
        "from sklearn.metrics import accuracy_score\n",
        "from sklearn.model_selection import cross_val_score\n",
        "from tabulate import tabulate\n",
        "from sklearn.model_selection import StratifiedShuffleSplit\n"
      ],
      "execution_count": 17,
      "outputs": [
        {
          "output_type": "stream",
          "text": [
            "/usr/local/lib/python3.6/dist-packages/smart_open/smart_open_lib.py:402: UserWarning: This function is deprecated, use smart_open.open instead. See the migration notes for details: https://github.com/RaRe-Technologies/smart_open/blob/master/README.rst#migrating-to-the-new-open-function\n",
            "  'See the migration notes for details: %s' % _MIGRATION_NOTES_URL\n"
          ],
          "name": "stderr"
        }
      ]
    },
    {
      "cell_type": "code",
      "metadata": {
        "id": "KDUlSsbqxjW3",
        "colab_type": "code",
        "outputId": "5f09b724-5f20-4007-ed57-3c251d1f4577",
        "colab": {
          "base_uri": "https://localhost:8080/",
          "height": 34
        }
      },
      "source": [
        "X, y = [], []\n",
        "r, c = df.shape\n",
        "for text in range (r):\n",
        "  x = df['correction'].str.split(',')\n",
        "  X = x.replace(',', '')\n",
        "  y = df['result']\n",
        "X, y = np.array(X), np.array(y)\n",
        "print (\"total examples %s\" % len(y))\n",
        "n = r;"
      ],
      "execution_count": 18,
      "outputs": [
        {
          "output_type": "stream",
          "text": [
            "total examples 3678\n"
          ],
          "name": "stdout"
        }
      ]
    },
    {
      "cell_type": "code",
      "metadata": {
        "id": "DQnZTLXFuu1-",
        "colab_type": "code",
        "colab": {}
      },
      "source": [
        "# Pipe line for all models start with the classics - logistic regression, naive bayes of the multinomial and bernoulli varieties\n",
        "# with either pure counts or tfidf features\n",
        "\n",
        "logistic = LogisticRegression(max_iter=10000, tol=0.1)\n",
        "\n",
        "logis = Pipeline([(\"count_vectorizer\", CountVectorizer(analyzer=lambda x: x)), (\"logistic\",  logistic)])\n",
        "mult_nb = Pipeline([(\"count_vectorizer\", CountVectorizer(analyzer=lambda x: x)), (\"multinomial nb\", MultinomialNB())])\n",
        "bern_nb = Pipeline([(\"count_vectorizer\", CountVectorizer(analyzer=lambda x: x)), (\"bernoulli nb\", BernoulliNB())])\n",
        "mult_nb_tfidf = Pipeline([(\"tfidf_vectorizer\", TfidfVectorizer(analyzer=lambda x: x)), (\"multinomial nb\", MultinomialNB())])\n",
        "bern_nb_tfidf = Pipeline([(\"tfidf_vectorizer\", TfidfVectorizer(analyzer=lambda x: x)), (\"bernoulli nb\", BernoulliNB())])\n",
        "svc = Pipeline([(\"count_vectorizer\", CountVectorizer(analyzer=lambda x: x)), (\"linear svc\", SVC(kernel=\"linear\"))])\n",
        "svc_tfidf = Pipeline([(\"tfidf_vectorizer\", TfidfVectorizer(analyzer=lambda x: x)), (\"linear svc\", SVC(kernel=\"rbf\"))])"
      ],
      "execution_count": 0,
      "outputs": []
    },
    {
      "cell_type": "code",
      "metadata": {
        "id": "Po0fGSq0uyc3",
        "colab_type": "code",
        "colab": {}
      },
      "source": [
        "\n",
        "all_models = [\n",
        "    (\"logis\", logis),\n",
        "    (\"mult_nb\", mult_nb),\n",
        "    (\"mult_nb_tfidf\", mult_nb_tfidf),\n",
        "    (\"bern_nb\", bern_nb),\n",
        "    (\"bern_nb_tfidf\", bern_nb_tfidf),\n",
        "    (\"svc\", svc),\n",
        "    (\"svc_tfidf\", svc_tfidf),\n",
        "]"
      ],
      "execution_count": 0,
      "outputs": []
    },
    {
      "cell_type": "code",
      "metadata": {
        "id": "ACREH-LRvuQh",
        "colab_type": "code",
        "colab": {}
      },
      "source": [
        "unsorted_scores = [(name, cross_val_score(model, X, y, cv = 5).mean()) for name, model in all_models]\n",
        "scores = sorted(unsorted_scores, key=lambda x: -x[1])"
      ],
      "execution_count": 0,
      "outputs": []
    },
    {
      "cell_type": "code",
      "metadata": {
        "id": "iYWuVJbu6S8v",
        "colab_type": "code",
        "colab": {
          "base_uri": "https://localhost:8080/",
          "height": 204
        },
        "outputId": "d021cbff-91c5-4159-c7d7-b66b157cc001"
      },
      "source": [
        "print ('Classiication Accuracy for the pantip sentiment_sinthron1A dataset')\n",
        "print (['Binary class problem, 5 folds CV'])\n",
        "print (tabulate(scores, floatfmt=\".4f\", headers=(\"model\", 'acc.')))"
      ],
      "execution_count": 22,
      "outputs": [
        {
          "output_type": "stream",
          "text": [
            "Classiication Accuracy for the pantip sentiment_sinthron1A dataset\n",
            "['Binary class problem, 5 folds CV']\n",
            "model            acc.\n",
            "-------------  ------\n",
            "svc_tfidf      0.7028\n",
            "mult_nb_tfidf  0.6990\n",
            "logis          0.6963\n",
            "bern_nb        0.6938\n",
            "bern_nb_tfidf  0.6938\n",
            "mult_nb        0.6933\n",
            "svc            0.6765\n"
          ],
          "name": "stdout"
        }
      ]
    },
    {
      "cell_type": "code",
      "metadata": {
        "id": "yGVBPGbIv_m5",
        "colab_type": "code",
        "colab": {
          "base_uri": "https://localhost:8080/",
          "height": 392
        },
        "outputId": "3f870421-37aa-466e-ca7a-a8a5951e9014"
      },
      "source": [
        "import matplotlib.pyplot as plt\n",
        "import seaborn as sns\n",
        "plt.figure(figsize=(15, 6))\n",
        "sns.barplot(x=[name for name, _ in scores], y=[score for _, score in scores])"
      ],
      "execution_count": 23,
      "outputs": [
        {
          "output_type": "execute_result",
          "data": {
            "text/plain": [
              "<matplotlib.axes._subplots.AxesSubplot at 0x7f43c57aaf98>"
            ]
          },
          "metadata": {
            "tags": []
          },
          "execution_count": 23
        },
        {
          "output_type": "display_data",
          "data": {
            "image/png": "[encoded data removed]",
            "text/plain": [
              "<Figure size 1080x432 with 1 Axes>"
            ]
          },
          "metadata": {
            "tags": []
          }
        }
      ]
    },
    {
      "cell_type": "code",
      "metadata": {
        "id": "GMQXqwsfCGBk",
        "colab_type": "code",
        "colab": {
          "base_uri": "https://localhost:8080/",
          "height": 306
        },
        "outputId": "b8f98e6c-641a-4907-939e-b9c70e251e06"
      },
      "source": [
        "# try word 2 vec\n",
        "!pip install gensim\n",
        "from gensim.models import Word2Vec\n"
      ],
      "execution_count": 24,
      "outputs": [
        {
          "output_type": "stream",
          "text": [
            "Requirement already satisfied: gensim in /usr/local/lib/python3.6/dist-packages (3.6.0)\n",
            "Requirement already satisfied: numpy>=1.11.3 in /usr/local/lib/python3.6/dist-packages (from gensim) (1.17.5)\n",
            "Requirement already satisfied: six>=1.5.0 in /usr/local/lib/python3.6/dist-packages (from gensim) (1.12.0)\n",
            "Requirement already satisfied: smart-open>=1.2.1 in /usr/local/lib/python3.6/dist-packages (from gensim) (1.9.0)\n",
            "Requirement already satisfied: scipy>=0.18.1 in /usr/local/lib/python3.6/dist-packages (from gensim) (1.4.1)\n",
            "Requirement already satisfied: boto3 in /usr/local/lib/python3.6/dist-packages (from smart-open>=1.2.1->gensim) (1.11.10)\n",
            "Requirement already satisfied: boto>=2.32 in /usr/local/lib/python3.6/dist-packages (from smart-open>=1.2.1->gensim) (2.49.0)\n",
            "Requirement already satisfied: requests in /usr/local/lib/python3.6/dist-packages (from smart-open>=1.2.1->gensim) (2.22.0)\n",
            "Requirement already satisfied: botocore<1.15.0,>=1.14.10 in /usr/local/lib/python3.6/dist-packages (from boto3->smart-open>=1.2.1->gensim) (1.14.10)\n",
            "Requirement already satisfied: jmespath<1.0.0,>=0.7.1 in /usr/local/lib/python3.6/dist-packages (from boto3->smart-open>=1.2.1->gensim) (0.9.4)\n",
            "Requirement already satisfied: s3transfer<0.4.0,>=0.3.0 in /usr/local/lib/python3.6/dist-packages (from boto3->smart-open>=1.2.1->gensim) (0.3.2)\n",
            "Requirement already satisfied: chardet<3.1.0,>=3.0.2 in /usr/local/lib/python3.6/dist-packages (from requests->smart-open>=1.2.1->gensim) (3.0.4)\n",
            "Requirement already satisfied: urllib3!=1.25.0,!=1.25.1,<1.26,>=1.21.1 in /usr/local/lib/python3.6/dist-packages (from requests->smart-open>=1.2.1->gensim) (1.24.3)\n",
            "Requirement already satisfied: certifi>=2017.4.17 in /usr/local/lib/python3.6/dist-packages (from requests->smart-open>=1.2.1->gensim) (2019.11.28)\n",
            "Requirement already satisfied: idna<2.9,>=2.5 in /usr/local/lib/python3.6/dist-packages (from requests->smart-open>=1.2.1->gensim) (2.8)\n",
            "Requirement already satisfied: python-dateutil<3.0.0,>=2.1 in /usr/local/lib/python3.6/dist-packages (from botocore<1.15.0,>=1.14.10->boto3->smart-open>=1.2.1->gensim) (2.6.1)\n",
            "Requirement already satisfied: docutils<0.16,>=0.10 in /usr/local/lib/python3.6/dist-packages (from botocore<1.15.0,>=1.14.10->boto3->smart-open>=1.2.1->gensim) (0.15.2)\n"
          ],
          "name": "stdout"
        }
      ]
    },
    {
      "cell_type": "code",
      "metadata": {
        "id": "BGb19VK7k4x0",
        "colab_type": "code",
        "colab": {
          "base_uri": "https://localhost:8080/",
          "height": 51
        },
        "outputId": "2dbbca4c-9a7b-450a-a8c1-ccb1eb48549d"
      },
      "source": [
        "\n",
        "\n",
        "from pythainlp.word_vector import * \n",
        "# train word2vec on all the texts - both training and test set\n",
        "# we're not using test labels, just texts so this is fine\n",
        "model = Word2Vec(X, size=100, window=5, min_count=5, workers=2)\n",
        "w2v = {w: vec for w, vec in zip(model.wv.index2word, model.wv.syn0)}\n"
      ],
      "execution_count": 25,
      "outputs": [
        {
          "output_type": "stream",
          "text": [
            "/usr/local/lib/python3.6/dist-packages/ipykernel_launcher.py:7: DeprecationWarning: Call to deprecated `syn0` (Attribute will be removed in 4.0.0, use self.wv.vectors instead).\n",
            "  import sys\n"
          ],
          "name": "stderr"
        }
      ]
    },
    {
      "cell_type": "code",
      "metadata": {
        "id": "no6qcTsvc4qh",
        "colab_type": "code",
        "colab": {
          "base_uri": "https://localhost:8080/",
          "height": 71
        },
        "outputId": "2c8fac9c-5dfc-4ebd-aa43-93d95bf536b3"
      },
      "source": [
        "\n",
        "\n",
        "model_th_wiki = get_model()"
      ],
      "execution_count": 26,
      "outputs": [
        {
          "output_type": "stream",
          "text": [
            "/usr/local/lib/python3.6/dist-packages/smart_open/smart_open_lib.py:402: UserWarning: This function is deprecated, use smart_open.open instead. See the migration notes for details: https://github.com/RaRe-Technologies/smart_open/blob/master/README.rst#migrating-to-the-new-open-function\n",
            "  'See the migration notes for details: %s' % _MIGRATION_NOTES_URL\n"
          ],
          "name": "stderr"
        }
      ]
    },
    {
      "cell_type": "code",
      "metadata": {
        "id": "w0Shvemgc9cQ",
        "colab_type": "code",
        "colab": {}
      },
      "source": [
        "\n",
        "all_words = set(w for words in X for w in words)\n"
      ],
      "execution_count": 0,
      "outputs": []
    },
    {
      "cell_type": "code",
      "metadata": {
        "id": "LIR1XXF0fGYv",
        "colab_type": "code",
        "colab": {}
      },
      "source": [
        "thwiki = {}\n",
        "for w in range(len(all_words)):\n",
        "  if (list(all_words)[w] in model_th_wiki.index2word):\n",
        "    nums = model_th_wiki.word_vec(list(all_words)[w])\n",
        "    thwiki[list(all_words)[w]] = nums\n",
        "  else:\n",
        "    pass"
      ],
      "execution_count": 0,
      "outputs": []
    },
    {
      "cell_type": "code",
      "metadata": {
        "id": "7LIIMNJsptYa",
        "colab_type": "code",
        "colab": {}
      },
      "source": [
        "class MeanEmbeddingVectorizer(object):\n",
        "    def __init__(self, word2vec):\n",
        "        self.word2vec = word2vec\n",
        "        if len(word2vec)>0:\n",
        "            self.dim=len(word2vec[next(iter(thwiki))])\n",
        "        else:\n",
        "            self.dim=0\n",
        "            \n",
        "    def fit(self, X, y):\n",
        "        return self \n",
        "\n",
        "    def transform(self, X):\n",
        "        return np.array([\n",
        "            np.mean([self.word2vec[w] for w in words if w in self.word2vec] \n",
        "                    or [np.zeros(self.dim)], axis=0)\n",
        "            for words in X\n",
        "        ])\n",
        "\n",
        "    \n",
        "# and a tf-idf version of the same\n",
        "class TfidfEmbeddingVectorizer(object):\n",
        "    def __init__(self, word2vec):\n",
        "        self.word2vec = word2vec\n",
        "        self.word2weight = None\n",
        "        if len(word2vec)>0:\n",
        "            self.dim=len(word2vec[next(iter(thwiki))])\n",
        "        else:\n",
        "            self.dim=0\n",
        "        \n",
        "    def fit(self, X, y):\n",
        "        tfidf = TfidfVectorizer(analyzer=lambda x: x)\n",
        "        tfidf.fit(X)\n",
        "        # if a word was never seen - it must be at least as infrequent\n",
        "        # as any of the known words - so the default idf is the max of \n",
        "        # known idf's\n",
        "        max_idf = max(tfidf.idf_)\n",
        "        self.word2weight = defaultdict(\n",
        "            lambda: max_idf, \n",
        "            [(w, tfidf.idf_[i]) for w, i in tfidf.vocabulary_.items()])\n",
        "    \n",
        "        return self\n",
        "    \n",
        "    def transform(self, X):\n",
        "        return np.array([\n",
        "                np.mean([self.word2vec[w] * self.word2weight[w]\n",
        "                         for w in words if w in self.word2vec] or\n",
        "                        [np.zeros(self.dim)], axis=0)\n",
        "                for words in X\n",
        "            ])"
      ],
      "execution_count": 0,
      "outputs": []
    },
    {
      "cell_type": "code",
      "metadata": {
        "id": "W6kSM_gMoah6",
        "colab_type": "code",
        "colab": {}
      },
      "source": [
        "from sklearn.ensemble import ExtraTreesClassifier\n",
        "etree_w2v = Pipeline([(\"word2vec vectorizer\", MeanEmbeddingVectorizer(w2v)), \n",
        "                     (\"extra trees\", ExtraTreesClassifier(n_estimators=200))])\n",
        "etree_w2v_tfidf = Pipeline([(\"word2vec vectorizer\", TfidfEmbeddingVectorizer(w2v)), \n",
        "                      (\"extra trees\", ExtraTreesClassifier(n_estimators=200))])\n",
        "\n",
        "# Extra Trees classifier is almost universally great, let's stack it with our embeddings\n",
        "etree_thwiki = Pipeline([(\"thwiki vectorizer\", MeanEmbeddingVectorizer(thwiki)), \n",
        "                        (\"extra trees\", ExtraTreesClassifier(n_estimators=200))])\n",
        "etree_thwiki_tfidf = Pipeline([(\"thwiki vectorizer\", TfidfEmbeddingVectorizer(thwiki)), \n",
        "                        (\"extra trees\", ExtraTreesClassifier(n_estimators=200))])\n"
      ],
      "execution_count": 0,
      "outputs": []
    },
    {
      "cell_type": "code",
      "metadata": {
        "id": "yoLvRLDMpkZc",
        "colab_type": "code",
        "colab": {}
      },
      "source": [
        "\n",
        "all_models = [\n",
        "    (\"mult_nb\", mult_nb),\n",
        "    (\"mult_nb_tfidf\", mult_nb_tfidf),\n",
        "    (\"bern_nb\", bern_nb),\n",
        "    (\"bern_nb_tfidf\", bern_nb_tfidf),\n",
        "    (\"svc\", svc),\n",
        "    (\"svc_tfidf\", svc_tfidf),\n",
        "    (\"extra trees-w2v\", etree_w2v),\n",
        "    (\"extra trees-w2v_tfidf\", etree_w2v_tfidf),\n",
        "    (\"extra trees-th-wiki\", etree_thwiki),\n",
        "    (\"extra trees-th-wiki_tfidf\", etree_thwiki_tfidf),\n",
        "\n",
        "]\n",
        "\n"
      ],
      "execution_count": 0,
      "outputs": []
    },
    {
      "cell_type": "code",
      "metadata": {
        "id": "EsqkyvWdqKVY",
        "colab_type": "code",
        "colab": {
          "base_uri": "https://localhost:8080/",
          "height": 221
        },
        "outputId": "9888ae2a-4d3b-4142-91c7-4436e81c73bb"
      },
      "source": [
        "\n",
        "from collections import Counter, defaultdict\n",
        "unsorted_scores = [(name, cross_val_score(model, X, y, cv=5).mean()) for name, model in all_models]\n",
        "scores = sorted(unsorted_scores, key=lambda x: -x[1])\n",
        "\n",
        "\n",
        "print (tabulate(scores, floatfmt=\".4f\", headers=(\"model\", 'acc.')))"
      ],
      "execution_count": 32,
      "outputs": [
        {
          "output_type": "stream",
          "text": [
            "model            acc.\n",
            "-------------  ------\n",
            "svc_tfidf      0.7028\n",
            "mult_nb_tfidf  0.6990\n",
            "bern_nb        0.6938\n",
            "bern_nb_tfidf  0.6938\n",
            "mult_nb        0.6933\n",
            "th-wiki_tfidf  0.6925\n",
            "th-wiki        0.6917\n",
            "w2v_tfidf      0.6767\n",
            "svc            0.6765\n",
            "w2v            0.6705\n"
          ],
          "name": "stdout"
        }
      ]
    },
    {
      "cell_type": "code",
      "metadata": {
        "id": "lgySWgrKqOzO",
        "colab_type": "code",
        "colab": {
          "base_uri": "https://localhost:8080/",
          "height": 392
        },
        "outputId": "c6153d16-f5dd-4f64-cf44-61d4c20adaf1"
      },
      "source": [
        "plt.figure(figsize=(15, 6))\n",
        "sns.barplot(x=[name for name, _ in scores], y=[score for _, score in scores])"
      ],
      "execution_count": 33,
      "outputs": [
        {
          "output_type": "execute_result",
          "data": {
            "text/plain": [
              "<matplotlib.axes._subplots.AxesSubplot at 0x7f43c151af98>"
            ]
          },
          "metadata": {
            "tags": []
          },
          "execution_count": 33
        },
        {
          "output_type": "display_data",
          "data": {
            "image/png": "[encoded data removed]",
            "text/plain": [
              "<Figure size 1080x432 with 1 Axes>"
            ]
          },
          "metadata": {
            "tags": []
          }
        }
      ]
    },
    {
      "cell_type": "code",
      "metadata": {
        "id": "dKv9MeK7fj4k",
        "colab_type": "code",
        "colab": {}
      },
      "source": [
        "\n",
        "def benchmark(model, X, y, t):\n",
        "    scores = []\n",
        "    sss=  StratifiedShuffleSplit(n_splits=5, train_size = t, test_size=  int(t*0.20))\n",
        "    for train_index, test_index in sss.split(X, y):\n",
        "        #print (len(train_index), ', ' , len(test_index))\n",
        "        X_train, X_test = X[train_index], X[test_index]\n",
        "        y_train, y_test = y[train_index], y[test_index]\n",
        "        scores.append(accuracy_score(model.fit(X_train, y_train).predict(X_test), y_test))\n",
        "    return np.mean(scores)"
      ],
      "execution_count": 0,
      "outputs": []
    },
    {
      "cell_type": "code",
      "metadata": {
        "id": "bVciidwlf0ep",
        "colab_type": "code",
        "colab": {}
      },
      "source": [
        "train_sizes = [10, 60, 260, 640, 1260, 2200, 3000]\n",
        "table = []\n",
        "for name, model in all_models:\n",
        "    for t in train_sizes:\n",
        "        table.append({'model': name, \n",
        "                      'accuracy': benchmark(model, X, y, t), \n",
        "                      'train_size': t})\n",
        "df1 = pd.DataFrame(table)"
      ],
      "execution_count": 0,
      "outputs": []
    },
    {
      "cell_type": "code",
      "metadata": {
        "colab_type": "code",
        "id": "AZSyHJjwwIGE",
        "colab": {
          "base_uri": "https://localhost:8080/",
          "height": 367
        },
        "outputId": "d46bdc16-2e0f-4f58-8036-b788a9c5bc05"
      },
      "source": [
        "\n",
        "plt.figure(figsize=(15, 5))\n",
        "fig = sns.pointplot(x='train_size', y='accuracy', hue='model', \n",
        "                    data=df1[df1.model.map(lambda x: x in [\"mult_nb\", \"svc_tfidf\", \"extra trees-w2v\",\"extra trees-w2v_tfidf\", \n",
        "                                                         \"mult_nb_tfidf\", \"bern_nb\", \"extra trees-th-wiki\", \"extra trees-th-wiki_tfidf\", \n",
        "                                                         \"svc\", \"svc_tfidf\"\n",
        "                                                        ])], scale =0.5)\n",
        "  \n",
        "sns.set_context(\"notebook\", font_scale=1.0)\n",
        "fig.set(ylabel=\"Accuracy rate (cv5)\")\n",
        "fig.set(xlabel=\"Training samples\")\n",
        "fig.set(title=\"SinthornA2 benchmark\")\n",
        "\n"
      ],
      "execution_count": 36,
      "outputs": [
        {
          "output_type": "execute_result",
          "data": {
            "text/plain": [
              "[Text(0.5, 1.0, 'SinthornA2 benchmark')]"
            ]
          },
          "metadata": {
            "tags": []
          },
          "execution_count": 36
        },
        {
          "output_type": "display_data",
          "data": {
            "image/png": "[encoded data removed]",
            "text/plain": [
              "<Figure size 1080x360 with 1 Axes>"
            ]
          },
          "metadata": {
            "tags": []
          }
        }
      ]
    },
    {
      "cell_type": "code",
      "metadata": {
        "id": "PMj3WM6Rg_Nr",
        "colab_type": "code",
        "colab": {
          "base_uri": "https://localhost:8080/",
          "height": 153
        },
        "outputId": "eabf61cf-8640-4ef3-830a-9f8e84c27950"
      },
      "source": [
        "!pip install keras\n",
        "\n"
      ],
      "execution_count": 37,
      "outputs": [
        {
          "output_type": "stream",
          "text": [
            "Requirement already satisfied: keras in /usr/local/lib/python3.6/dist-packages (2.2.5)\n",
            "Requirement already satisfied: numpy>=1.9.1 in /usr/local/lib/python3.6/dist-packages (from keras) (1.17.5)\n",
            "Requirement already satisfied: six>=1.9.0 in /usr/local/lib/python3.6/dist-packages (from keras) (1.12.0)\n",
            "Requirement already satisfied: scipy>=0.14 in /usr/local/lib/python3.6/dist-packages (from keras) (1.4.1)\n",
            "Requirement already satisfied: keras-preprocessing>=1.1.0 in /usr/local/lib/python3.6/dist-packages (from keras) (1.1.0)\n",
            "Requirement already satisfied: h5py in /usr/local/lib/python3.6/dist-packages (from keras) (2.8.0)\n",
            "Requirement already satisfied: pyyaml in /usr/local/lib/python3.6/dist-packages (from keras) (3.13)\n",
            "Requirement already satisfied: keras-applications>=1.0.8 in /usr/local/lib/python3.6/dist-packages (from keras) (1.0.8)\n"
          ],
          "name": "stdout"
        }
      ]
    },
    {
      "cell_type": "code",
      "metadata": {
        "id": "IV66W3MLFiHu",
        "colab_type": "code",
        "colab": {
          "base_uri": "https://localhost:8080/",
          "height": 782
        },
        "outputId": "fbbcd371-351e-4a24-ab39-29c79405acbd"
      },
      "source": [
        "df_col_len = int(df['correction'].str.encode(encoding='utf-8').str.len().max())\n",
        "df_col_len\n"
      ],
      "execution_count": 50,
      "outputs": [
        {
          "output_type": "execute_result",
          "data": {
            "text/plain": [
              "array([-1, -1, -1,  0,  0,  0,  0,  0,  0,  0, -1, -1,  0,  0,  0,  0,  0,\n",
              "        0, -1, -1,  0,  0,  0, -1,  0,  0,  0,  0,  0,  0, -1,  0, -1, -1,\n",
              "        0,  0,  0, -1,  0,  0,  0,  0,  0, -1,  0,  0, -1,  0, -1, -1,  0,\n",
              "        0,  0,  0,  0, -1,  0,  0,  0, -1, -1, -1,  0,  0,  0, -1, -1,  0,\n",
              "        0, -1,  0,  0, -1,  0,  0, -1,  0, -1,  0,  0, -1,  0,  0,  0,  0,\n",
              "        0,  0, -1,  0,  0,  0,  0,  0, -1,  0, -1,  0,  0,  0,  0,  0, -1,\n",
              "        0, -1,  0,  0,  0,  0,  0,  0, -1, -1,  0,  0,  0,  0, -1,  0, -1,\n",
              "       -1, -1,  0, -1, -1,  0,  0,  0,  0,  0,  0,  0, -1,  0,  0,  0, -1,\n",
              "       -1,  0,  0,  0,  0,  0,  0,  0, -1, -1, -1,  0, -1,  0, -1, -1,  0,\n",
              "        0,  0,  0,  0,  0, -1,  0,  0,  0,  0,  0,  0,  0, -1,  0,  0, -1,\n",
              "        0, -1,  0,  0,  0, -1, -1,  0,  0,  0,  0,  0,  0,  0,  0,  0,  0,\n",
              "        0,  0, -1, -1,  0,  0, -1,  0,  0, -1,  0,  0,  0, -1, -1,  0,  0,\n",
              "        0, -1,  0,  0,  0, -1, -1,  0,  0,  0,  0, -1,  0, -1,  0, -1,  0,\n",
              "        0,  0, -1,  0,  0,  0, -1,  0, -1,  0,  0,  0,  0,  0,  0,  0,  0,\n",
              "        0, -1,  0, -1,  0,  0, -1,  0,  0,  0,  0,  0, -1,  0,  0,  0,  0,\n",
              "        0,  0, -1,  0,  0,  0, -1,  0,  0,  0, -1,  0,  0,  0,  0,  0, -1,\n",
              "       -1,  0,  0, -1,  0,  0, -1, -1, -1, -1,  0,  0,  0,  0, -1, -1,  0,\n",
              "        0,  0, -1, -1,  0, -1, -1,  0,  0,  0,  0, -1, -1,  0,  0, -1,  0,\n",
              "        0,  0,  0,  0,  0,  0,  0,  0, -1,  0,  0,  0, -1,  0, -1, -1,  0,\n",
              "        0,  0,  0,  0, -1, -1, -1,  0,  0,  0, -1,  0,  0, -1,  0,  0,  0,\n",
              "       -1, -1,  0, -1,  0,  0, -1,  0,  0,  0,  0,  0, -1,  0,  0,  0,  0,\n",
              "       -1,  0,  0, -1, -1,  0,  0, -1,  0, -1, -1,  0,  0,  0, -1,  0,  0,\n",
              "        0,  0,  0,  0,  0,  0, -1,  0, -1,  0, -1,  0,  0, -1,  0,  0,  0,\n",
              "       -1,  0,  0, -1,  0,  0, -1, -1, -1,  0,  0,  0,  0,  0, -1,  0,  0,\n",
              "       -1,  0,  0,  0,  0,  0,  0,  0,  0, -1, -1, -1, -1, -1,  0, -1,  0,\n",
              "        0,  0, -1,  0, -1,  0,  0,  0,  0,  0, -1, -1, -1, -1,  0, -1,  0,\n",
              "       -1,  0, -1,  0, -1,  0,  0,  0, -1,  0, -1,  0,  0,  0, -1, -1,  0,\n",
              "        0,  0, -1,  0,  0,  0,  0,  0,  0,  0, -1,  0,  0, -1, -1,  0,  0,\n",
              "        0, -1,  0,  0,  0, -1,  0,  0,  0, -1, -1, -1, -1,  0,  0,  0,  0,\n",
              "        0, -1, -1,  0, -1,  0,  0, -1,  0, -1, -1,  0,  0,  0, -1,  0,  0,\n",
              "        0,  0,  0, -1,  0,  0,  0, -1, -1,  0,  0,  0, -1,  0,  0,  0,  0,\n",
              "        0, -1,  0,  0,  0, -1,  0,  0,  0,  0,  0,  0,  0,  0, -1,  0,  0,\n",
              "        0, -1,  0, -1,  0,  0, -1, -1,  0, -1,  0,  0,  0,  0,  0,  0,  0,\n",
              "        0, -1, -1,  0,  0,  0,  0,  0, -1,  0,  0, -1,  0, -1, -1, -1, -1,\n",
              "        0,  0,  0,  0,  0,  0,  0,  0,  0,  0,  0, -1,  0, -1, -1,  0,  0,\n",
              "        0, -1, -1,  0, -1,  0,  0,  0,  0,  0, -1,  0,  0,  0,  0,  0, -1,\n",
              "        0, -1, -1, -1,  0,  0,  0,  0, -1,  0,  0,  0,  0, -1,  0,  0,  0,\n",
              "        0,  0, -1, -1, -1,  0,  0, -1, -1,  0,  0,  0,  0,  0, -1,  0, -1,\n",
              "       -1,  0,  0, -1,  0,  0, -1, -1, -1,  0,  0,  0, -1,  0,  0,  0,  0,\n",
              "        0,  0,  0,  0,  0,  0,  0, -1, -1,  0, -1,  0,  0,  0,  0,  0, -1,\n",
              "        0,  0, -1, -1,  0,  0,  0,  0,  0,  0, -1,  0,  0,  0,  0, -1, -1,\n",
              "       -1,  0,  0,  0,  0,  0,  0,  0,  0,  0, -1, -1, -1,  0,  0,  0,  0,\n",
              "        0,  0,  0,  0,  0,  0,  0, -1, -1,  0,  0,  0,  0,  0, -1,  0, -1,\n",
              "        0, -1,  0, -1,  0, -1,  0,  0, -1,  0,  0,  0,  0,  0,  0, -1,  0,\n",
              "        0,  0])"
            ]
          },
          "metadata": {
            "tags": []
          },
          "execution_count": 50
        }
      ]
    },
    {
      "cell_type": "code",
      "metadata": {
        "id": "fKDCWHAYyR5i",
        "colab_type": "code",
        "colab": {}
      },
      "source": [
        " def Build_Model_DNN_Text(shape):\n",
        "    \"\"\"\n",
        "    buildModel_DNN_Tex(shape, nClasses,dropout)\n",
        "    Build Deep neural networks Model for text classification\n",
        "    Shape is input feature space\n",
        "    nClasses is number of classes\n",
        "    \"\"\"\n",
        "    model = Sequential()\n",
        "    model.add(Dense(512,input_dim=shape, activation='relu'))\n",
        "    model.add(Dense(256, activation='relu'))\n",
        "    model.add(Dense(128, activation='relu'))\n",
        "    model.add(Dense(64, activation='relu'))\n",
        "    #model.add(Dropout(dropout))\n",
        "    model.add(Dense(1, activation='sigmoid'))\n",
        "    model.compile(loss='binary_crossentropy',\n",
        "                  optimizer='adam',\n",
        "                  metrics=['accuracy'])\n",
        "    print (model.summary() )\n",
        "    return model\n"
      ],
      "execution_count": 0,
      "outputs": []
    },
    {
      "cell_type": "code",
      "metadata": {
        "id": "fv_aL0gGbdwY",
        "colab_type": "code",
        "colab": {}
      },
      "source": [
        "def TFIDF(X_train, X_test, MAX_NB_WORDS=75000):\n",
        "  \n",
        "    vectorizer_x = TfidfVectorizer(analyzer=lambda x: x)\n",
        "    X_train = vectorizer_x.fit_transform(X_train).toarray()\n",
        "    X_test = vectorizer_x.transform(X_test).toarray()\n",
        "    print(\"tf-idf with\",str(np.array(X_train).shape[1]),\"features\")\n",
        "    return (X_train,X_test)"
      ],
      "execution_count": 0,
      "outputs": []
    },
    {
      "cell_type": "code",
      "metadata": {
        "id": "wmQd1QTPbsTp",
        "colab_type": "code",
        "colab": {
          "base_uri": "https://localhost:8080/",
          "height": 51
        },
        "outputId": "a0dfa5f0-f152-4637-ba56-f2f3e0ebd93a"
      },
      "source": [
        "\n",
        "sss=  StratifiedShuffleSplit(n_splits=1, train_size = 2800, test_size=  int(t*0.25))\n",
        "# normalize to range [0,1]\n",
        "y = np.where(y==-1, 0 , y)\n",
        "for train_index, test_index in sss.split(X, y):\n",
        "        X_train, X_test = X[train_index], X[test_index]\n",
        "        y_train, y_test = y[train_index], y[test_index]\n",
        "        \n",
        "        print(y)\n",
        "X_train_tfidf , X_test_tfidf = TFIDF(X_train,X_test)\n",
        "#y_train =to_categorical(y_train)\n",
        "#y_test =to_categorical(y_test)"
      ],
      "execution_count": 72,
      "outputs": [
        {
          "output_type": "stream",
          "text": [
            "[0 0 1 ... 0 1 0]\n",
            "tf-idf with 8805 features\n"
          ],
          "name": "stdout"
        }
      ]
    },
    {
      "cell_type": "code",
      "metadata": {
        "id": "XztywHn2hPYW",
        "colab_type": "code",
        "colab": {
          "base_uri": "https://localhost:8080/",
          "height": 1000
        },
        "outputId": "de089565-7dce-46e1-d405-67c5dff9111e"
      },
      "source": [
        "from keras.layers import Dense, Dropout\n",
        "from keras.layers.embeddings import Embedding\n",
        "\n",
        "from keras import Sequential\n",
        "from sklearn import metrics\n",
        "\n",
        "\n",
        "\n",
        "model_DNN = Build_Model_DNN_Text(X_train_tfidf.shape[1])\n",
        "\n",
        "model_DNN.fit(X_train_tfidf, y_train,\n",
        "                              validation_data=(X_test_tfidf, y_test),\n",
        "                              epochs=100,\n",
        "                              batch_size=len(X_train),\n",
        "                              )\n",
        "y_pred = model_DNN.predict(X_test_tfidf)\n",
        "print(metrics.classification_report(y_test, np.argmax(y_pred, axis=1)))\n"
      ],
      "execution_count": 73,
      "outputs": [
        {
          "output_type": "stream",
          "text": [
            "Model: \"sequential_8\"\n",
            "_________________________________________________________________\n",
            "Layer (type)                 Output Shape              Param #   \n",
            "=================================================================\n",
            "dense_36 (Dense)             (None, 512)               4508672   \n",
            "_________________________________________________________________\n",
            "dense_37 (Dense)             (None, 256)               131328    \n",
            "_________________________________________________________________\n",
            "dense_38 (Dense)             (None, 128)               32896     \n",
            "_________________________________________________________________\n",
            "dense_39 (Dense)             (None, 64)                8256      \n",
            "_________________________________________________________________\n",
            "dense_40 (Dense)             (None, 1)                 65        \n",
            "=================================================================\n",
            "Total params: 4,681,217\n",
            "Trainable params: 4,681,217\n",
            "Non-trainable params: 0\n",
            "_________________________________________________________________\n",
            "None\n",
            "Train on 2800 samples, validate on 750 samples\n",
            "Epoch 1/100\n",
            "2800/2800 [==============================] - 1s 338us/step - loss: 0.6921 - acc: 0.6504 - val_loss: 0.6848 - val_acc: 0.6933\n",
            "Epoch 2/100\n",
            "2800/2800 [==============================] - 0s 54us/step - loss: 0.6834 - acc: 0.6939 - val_loss: 0.6756 - val_acc: 0.6933\n",
            "Epoch 3/100\n",
            "2800/2800 [==============================] - 0s 47us/step - loss: 0.6728 - acc: 0.6939 - val_loss: 0.6642 - val_acc: 0.6933\n",
            "Epoch 4/100\n",
            "2800/2800 [==============================] - 0s 48us/step - loss: 0.6590 - acc: 0.6939 - val_loss: 0.6508 - val_acc: 0.6933\n",
            "Epoch 5/100\n",
            "2800/2800 [==============================] - 0s 48us/step - loss: 0.6421 - acc: 0.6939 - val_loss: 0.6358 - val_acc: 0.6933\n",
            "Epoch 6/100\n",
            "2800/2800 [==============================] - 0s 47us/step - loss: 0.6217 - acc: 0.6939 - val_loss: 0.6204 - val_acc: 0.6933\n",
            "Epoch 7/100\n",
            "2800/2800 [==============================] - 0s 47us/step - loss: 0.5985 - acc: 0.6939 - val_loss: 0.6069 - val_acc: 0.6933\n",
            "Epoch 8/100\n",
            "2800/2800 [==============================] - 0s 48us/step - loss: 0.5737 - acc: 0.6939 - val_loss: 0.5990 - val_acc: 0.6933\n",
            "Epoch 9/100\n",
            "2800/2800 [==============================] - 0s 47us/step - loss: 0.5499 - acc: 0.6939 - val_loss: 0.6000 - val_acc: 0.6933\n",
            "Epoch 10/100\n",
            "2800/2800 [==============================] - 0s 48us/step - loss: 0.5295 - acc: 0.6939 - val_loss: 0.6077 - val_acc: 0.6933\n",
            "Epoch 11/100\n",
            "2800/2800 [==============================] - 0s 46us/step - loss: 0.5104 - acc: 0.6939 - val_loss: 0.6143 - val_acc: 0.6933\n",
            "Epoch 12/100\n",
            "2800/2800 [==============================] - 0s 49us/step - loss: 0.4880 - acc: 0.6939 - val_loss: 0.6143 - val_acc: 0.6933\n",
            "Epoch 13/100\n",
            "2800/2800 [==============================] - 0s 51us/step - loss: 0.4606 - acc: 0.6939 - val_loss: 0.6078 - val_acc: 0.6933\n",
            "Epoch 14/100\n",
            "2800/2800 [==============================] - 0s 49us/step - loss: 0.4301 - acc: 0.6939 - val_loss: 0.5977 - val_acc: 0.6933\n",
            "Epoch 15/100\n",
            "2800/2800 [==============================] - 0s 49us/step - loss: 0.3994 - acc: 0.6939 - val_loss: 0.5875 - val_acc: 0.6933\n",
            "Epoch 16/100\n",
            "2800/2800 [==============================] - 0s 50us/step - loss: 0.3707 - acc: 0.6939 - val_loss: 0.5800 - val_acc: 0.6933\n",
            "Epoch 17/100\n",
            "2800/2800 [==============================] - 0s 49us/step - loss: 0.3445 - acc: 0.6939 - val_loss: 0.5773 - val_acc: 0.6933\n",
            "Epoch 18/100\n",
            "2800/2800 [==============================] - 0s 50us/step - loss: 0.3210 - acc: 0.6939 - val_loss: 0.5812 - val_acc: 0.6933\n",
            "Epoch 19/100\n",
            "2800/2800 [==============================] - 0s 49us/step - loss: 0.2997 - acc: 0.6939 - val_loss: 0.5938 - val_acc: 0.6933\n",
            "Epoch 20/100\n",
            "2800/2800 [==============================] - 0s 50us/step - loss: 0.2807 - acc: 0.6939 - val_loss: 0.6175 - val_acc: 0.6933\n",
            "Epoch 21/100\n",
            "2800/2800 [==============================] - 0s 48us/step - loss: 0.2640 - acc: 0.6943 - val_loss: 0.6546 - val_acc: 0.7013\n",
            "Epoch 22/100\n",
            "2800/2800 [==============================] - 0s 47us/step - loss: 0.2500 - acc: 0.7679 - val_loss: 0.7065 - val_acc: 0.7133\n",
            "Epoch 23/100\n",
            "2800/2800 [==============================] - 0s 47us/step - loss: 0.2386 - acc: 0.9514 - val_loss: 0.7731 - val_acc: 0.7120\n",
            "Epoch 24/100\n",
            "2800/2800 [==============================] - 0s 47us/step - loss: 0.2294 - acc: 0.9782 - val_loss: 0.8504 - val_acc: 0.7187\n",
            "Epoch 25/100\n",
            "2800/2800 [==============================] - 0s 48us/step - loss: 0.2220 - acc: 0.9846 - val_loss: 0.9362 - val_acc: 0.7227\n",
            "Epoch 26/100\n",
            "2800/2800 [==============================] - 0s 47us/step - loss: 0.2158 - acc: 0.9889 - val_loss: 1.0273 - val_acc: 0.7213\n",
            "Epoch 27/100\n",
            "2800/2800 [==============================] - 0s 50us/step - loss: 0.2101 - acc: 0.9918 - val_loss: 1.1201 - val_acc: 0.7240\n",
            "Epoch 28/100\n",
            "2800/2800 [==============================] - 0s 47us/step - loss: 0.2045 - acc: 0.9925 - val_loss: 1.2112 - val_acc: 0.7267\n",
            "Epoch 29/100\n",
            "2800/2800 [==============================] - 0s 48us/step - loss: 0.1987 - acc: 0.9936 - val_loss: 1.2977 - val_acc: 0.7253\n",
            "Epoch 30/100\n",
            "2800/2800 [==============================] - 0s 47us/step - loss: 0.1926 - acc: 0.9954 - val_loss: 1.3782 - val_acc: 0.7240\n",
            "Epoch 31/100\n",
            "2800/2800 [==============================] - 0s 47us/step - loss: 0.1858 - acc: 0.9954 - val_loss: 1.4496 - val_acc: 0.7227\n",
            "Epoch 32/100\n",
            "2800/2800 [==============================] - 0s 49us/step - loss: 0.1781 - acc: 0.9961 - val_loss: 1.5096 - val_acc: 0.7213\n",
            "Epoch 33/100\n",
            "2800/2800 [==============================] - 0s 47us/step - loss: 0.1694 - acc: 0.9964 - val_loss: 1.5545 - val_acc: 0.7120\n",
            "Epoch 34/100\n",
            "2800/2800 [==============================] - 0s 47us/step - loss: 0.1594 - acc: 0.9964 - val_loss: 1.5823 - val_acc: 0.7107\n",
            "Epoch 35/100\n",
            "2800/2800 [==============================] - 0s 47us/step - loss: 0.1480 - acc: 0.9964 - val_loss: 1.5949 - val_acc: 0.7093\n",
            "Epoch 36/100\n",
            "2800/2800 [==============================] - 0s 48us/step - loss: 0.1351 - acc: 0.9964 - val_loss: 1.5950 - val_acc: 0.7093\n",
            "Epoch 37/100\n",
            "2800/2800 [==============================] - 0s 47us/step - loss: 0.1208 - acc: 0.9964 - val_loss: 1.5874 - val_acc: 0.6960\n",
            "Epoch 38/100\n",
            "2800/2800 [==============================] - 0s 48us/step - loss: 0.1056 - acc: 0.9964 - val_loss: 1.5794 - val_acc: 0.6880\n",
            "Epoch 39/100\n",
            "2800/2800 [==============================] - 0s 49us/step - loss: 0.0898 - acc: 0.9964 - val_loss: 1.5764 - val_acc: 0.6800\n",
            "Epoch 40/100\n",
            "2800/2800 [==============================] - 0s 49us/step - loss: 0.0739 - acc: 0.9964 - val_loss: 1.5845 - val_acc: 0.6840\n",
            "Epoch 41/100\n",
            "2800/2800 [==============================] - 0s 46us/step - loss: 0.0590 - acc: 0.9964 - val_loss: 1.6049 - val_acc: 0.6880\n",
            "Epoch 42/100\n",
            "2800/2800 [==============================] - 0s 46us/step - loss: 0.0458 - acc: 0.9964 - val_loss: 1.6443 - val_acc: 0.6933\n",
            "Epoch 43/100\n",
            "2800/2800 [==============================] - 0s 48us/step - loss: 0.0349 - acc: 0.9964 - val_loss: 1.7012 - val_acc: 0.6800\n",
            "Epoch 44/100\n",
            "2800/2800 [==============================] - 0s 48us/step - loss: 0.0265 - acc: 0.9964 - val_loss: 1.7764 - val_acc: 0.6747\n",
            "Epoch 45/100\n",
            "2800/2800 [==============================] - 0s 47us/step - loss: 0.0205 - acc: 0.9964 - val_loss: 1.8626 - val_acc: 0.6733\n",
            "Epoch 46/100\n",
            "2800/2800 [==============================] - 0s 47us/step - loss: 0.0166 - acc: 0.9964 - val_loss: 1.9543 - val_acc: 0.6760\n",
            "Epoch 47/100\n",
            "2800/2800 [==============================] - 0s 47us/step - loss: 0.0142 - acc: 0.9964 - val_loss: 2.0472 - val_acc: 0.6773\n",
            "Epoch 48/100\n",
            "2800/2800 [==============================] - 0s 50us/step - loss: 0.0128 - acc: 0.9964 - val_loss: 2.1383 - val_acc: 0.6773\n",
            "Epoch 49/100\n",
            "2800/2800 [==============================] - 0s 48us/step - loss: 0.0120 - acc: 0.9964 - val_loss: 2.2259 - val_acc: 0.6813\n",
            "Epoch 50/100\n",
            "2800/2800 [==============================] - 0s 46us/step - loss: 0.0115 - acc: 0.9964 - val_loss: 2.3060 - val_acc: 0.6827\n",
            "Epoch 51/100\n",
            "2800/2800 [==============================] - 0s 48us/step - loss: 0.0112 - acc: 0.9964 - val_loss: 2.3794 - val_acc: 0.6853\n",
            "Epoch 52/100\n",
            "2800/2800 [==============================] - 0s 48us/step - loss: 0.0109 - acc: 0.9964 - val_loss: 2.4434 - val_acc: 0.6853\n",
            "Epoch 53/100\n",
            "2800/2800 [==============================] - 0s 47us/step - loss: 0.0106 - acc: 0.9964 - val_loss: 2.5001 - val_acc: 0.6867\n",
            "Epoch 54/100\n",
            "2800/2800 [==============================] - 0s 46us/step - loss: 0.0103 - acc: 0.9964 - val_loss: 2.5459 - val_acc: 0.6880\n",
            "Epoch 55/100\n",
            "2800/2800 [==============================] - 0s 48us/step - loss: 0.0098 - acc: 0.9964 - val_loss: 2.5849 - val_acc: 0.6907\n",
            "Epoch 56/100\n",
            "2800/2800 [==============================] - 0s 48us/step - loss: 0.0092 - acc: 0.9964 - val_loss: 2.6180 - val_acc: 0.6920\n",
            "Epoch 57/100\n",
            "2800/2800 [==============================] - 0s 46us/step - loss: 0.0089 - acc: 0.9964 - val_loss: 2.6430 - val_acc: 0.6947\n",
            "Epoch 58/100\n",
            "2800/2800 [==============================] - 0s 47us/step - loss: 0.0089 - acc: 0.9964 - val_loss: 2.6685 - val_acc: 0.6987\n",
            "Epoch 59/100\n",
            "2800/2800 [==============================] - 0s 46us/step - loss: 0.0086 - acc: 0.9964 - val_loss: 2.6926 - val_acc: 0.6973\n",
            "Epoch 60/100\n",
            "2800/2800 [==============================] - 0s 48us/step - loss: 0.0080 - acc: 0.9964 - val_loss: 2.7108 - val_acc: 0.6973\n",
            "Epoch 61/100\n",
            "2800/2800 [==============================] - 0s 49us/step - loss: 0.0074 - acc: 0.9964 - val_loss: 2.7244 - val_acc: 0.6973\n",
            "Epoch 62/100\n",
            "2800/2800 [==============================] - 0s 48us/step - loss: 0.0072 - acc: 0.9968 - val_loss: 2.7350 - val_acc: 0.6947\n",
            "Epoch 63/100\n",
            "2800/2800 [==============================] - 0s 48us/step - loss: 0.0071 - acc: 0.9968 - val_loss: 2.7393 - val_acc: 0.6960\n",
            "Epoch 64/100\n",
            "2800/2800 [==============================] - 0s 47us/step - loss: 0.0070 - acc: 0.9968 - val_loss: 2.7418 - val_acc: 0.6973\n",
            "Epoch 65/100\n",
            "2800/2800 [==============================] - 0s 47us/step - loss: 0.0068 - acc: 0.9968 - val_loss: 2.7421 - val_acc: 0.6960\n",
            "Epoch 66/100\n",
            "2800/2800 [==============================] - 0s 47us/step - loss: 0.0065 - acc: 0.9968 - val_loss: 2.7438 - val_acc: 0.6947\n",
            "Epoch 67/100\n",
            "2800/2800 [==============================] - 0s 47us/step - loss: 0.0064 - acc: 0.9968 - val_loss: 2.7439 - val_acc: 0.6960\n",
            "Epoch 68/100\n",
            "2800/2800 [==============================] - 0s 47us/step - loss: 0.0064 - acc: 0.9968 - val_loss: 2.7480 - val_acc: 0.6960\n",
            "Epoch 69/100\n",
            "2800/2800 [==============================] - 0s 47us/step - loss: 0.0064 - acc: 0.9968 - val_loss: 2.7537 - val_acc: 0.6947\n",
            "Epoch 70/100\n",
            "2800/2800 [==============================] - 0s 47us/step - loss: 0.0062 - acc: 0.9968 - val_loss: 2.7566 - val_acc: 0.6947\n",
            "Epoch 71/100\n",
            "2800/2800 [==============================] - 0s 49us/step - loss: 0.0061 - acc: 0.9968 - val_loss: 2.7611 - val_acc: 0.6960\n",
            "Epoch 72/100\n",
            "2800/2800 [==============================] - 0s 47us/step - loss: 0.0061 - acc: 0.9968 - val_loss: 2.7620 - val_acc: 0.6973\n",
            "Epoch 73/100\n",
            "2800/2800 [==============================] - 0s 47us/step - loss: 0.0060 - acc: 0.9968 - val_loss: 2.7593 - val_acc: 0.6960\n",
            "Epoch 74/100\n",
            "2800/2800 [==============================] - 0s 47us/step - loss: 0.0059 - acc: 0.9968 - val_loss: 2.7564 - val_acc: 0.6960\n",
            "Epoch 75/100\n",
            "2800/2800 [==============================] - 0s 48us/step - loss: 0.0057 - acc: 0.9968 - val_loss: 2.7509 - val_acc: 0.7000\n",
            "Epoch 76/100\n",
            "2800/2800 [==============================] - 0s 47us/step - loss: 0.0055 - acc: 0.9971 - val_loss: 2.7449 - val_acc: 0.7013\n",
            "Epoch 77/100\n",
            "2800/2800 [==============================] - 0s 47us/step - loss: 0.0054 - acc: 0.9971 - val_loss: 2.7424 - val_acc: 0.7013\n",
            "Epoch 78/100\n",
            "2800/2800 [==============================] - 0s 48us/step - loss: 0.0054 - acc: 0.9971 - val_loss: 2.7407 - val_acc: 0.7013\n",
            "Epoch 79/100\n",
            "2800/2800 [==============================] - 0s 48us/step - loss: 0.0054 - acc: 0.9971 - val_loss: 2.7408 - val_acc: 0.7013\n",
            "Epoch 80/100\n",
            "2800/2800 [==============================] - 0s 47us/step - loss: 0.0053 - acc: 0.9971 - val_loss: 2.7443 - val_acc: 0.7013\n",
            "Epoch 81/100\n",
            "2800/2800 [==============================] - 0s 47us/step - loss: 0.0052 - acc: 0.9971 - val_loss: 2.7482 - val_acc: 0.7013\n",
            "Epoch 82/100\n",
            "2800/2800 [==============================] - 0s 47us/step - loss: 0.0052 - acc: 0.9971 - val_loss: 2.7525 - val_acc: 0.7013\n",
            "Epoch 83/100\n",
            "2800/2800 [==============================] - 0s 48us/step - loss: 0.0052 - acc: 0.9971 - val_loss: 2.7580 - val_acc: 0.6973\n",
            "Epoch 84/100\n",
            "2800/2800 [==============================] - 0s 48us/step - loss: 0.0051 - acc: 0.9971 - val_loss: 2.7611 - val_acc: 0.6987\n",
            "Epoch 85/100\n",
            "2800/2800 [==============================] - 0s 46us/step - loss: 0.0051 - acc: 0.9971 - val_loss: 2.7655 - val_acc: 0.6987\n",
            "Epoch 86/100\n",
            "2800/2800 [==============================] - 0s 49us/step - loss: 0.0051 - acc: 0.9971 - val_loss: 2.7690 - val_acc: 0.6987\n",
            "Epoch 87/100\n",
            "2800/2800 [==============================] - 0s 47us/step - loss: 0.0051 - acc: 0.9971 - val_loss: 2.7705 - val_acc: 0.6987\n",
            "Epoch 88/100\n",
            "2800/2800 [==============================] - 0s 47us/step - loss: 0.0050 - acc: 0.9971 - val_loss: 2.7745 - val_acc: 0.6987\n",
            "Epoch 89/100\n",
            "2800/2800 [==============================] - 0s 47us/step - loss: 0.0050 - acc: 0.9971 - val_loss: 2.7796 - val_acc: 0.6987\n",
            "Epoch 90/100\n",
            "2800/2800 [==============================] - 0s 47us/step - loss: 0.0050 - acc: 0.9971 - val_loss: 2.7828 - val_acc: 0.6973\n",
            "Epoch 91/100\n",
            "2800/2800 [==============================] - 0s 48us/step - loss: 0.0050 - acc: 0.9971 - val_loss: 2.7888 - val_acc: 0.6987\n",
            "Epoch 92/100\n",
            "2800/2800 [==============================] - 0s 47us/step - loss: 0.0049 - acc: 0.9971 - val_loss: 2.7933 - val_acc: 0.6987\n",
            "Epoch 93/100\n",
            "2800/2800 [==============================] - 0s 49us/step - loss: 0.0049 - acc: 0.9971 - val_loss: 2.7975 - val_acc: 0.6987\n",
            "Epoch 94/100\n",
            "2800/2800 [==============================] - 0s 48us/step - loss: 0.0049 - acc: 0.9971 - val_loss: 2.8020 - val_acc: 0.6987\n",
            "Epoch 95/100\n",
            "2800/2800 [==============================] - 0s 48us/step - loss: 0.0048 - acc: 0.9971 - val_loss: 2.8043 - val_acc: 0.6987\n",
            "Epoch 96/100\n",
            "2800/2800 [==============================] - 0s 46us/step - loss: 0.0048 - acc: 0.9971 - val_loss: 2.8109 - val_acc: 0.6987\n",
            "Epoch 97/100\n",
            "2800/2800 [==============================] - 0s 47us/step - loss: 0.0048 - acc: 0.9971 - val_loss: 2.8140 - val_acc: 0.6987\n",
            "Epoch 98/100\n",
            "2800/2800 [==============================] - 0s 48us/step - loss: 0.0048 - acc: 0.9971 - val_loss: 2.8195 - val_acc: 0.7000\n",
            "Epoch 99/100\n",
            "2800/2800 [==============================] - 0s 46us/step - loss: 0.0048 - acc: 0.9971 - val_loss: 2.8282 - val_acc: 0.7000\n",
            "Epoch 100/100\n",
            "2800/2800 [==============================] - 0s 46us/step - loss: 0.0048 - acc: 0.9971 - val_loss: 2.8354 - val_acc: 0.6973\n",
            "              precision    recall  f1-score   support\n",
            "\n",
            "           0       0.31      1.00      0.47       230\n",
            "           1       0.00      0.00      0.00       520\n",
            "\n",
            "    accuracy                           0.31       750\n",
            "   macro avg       0.15      0.50      0.23       750\n",
            "weighted avg       0.09      0.31      0.14       750\n",
            "\n"
          ],
          "name": "stdout"
        },
        {
          "output_type": "stream",
          "text": [
            "/usr/local/lib/python3.6/dist-packages/sklearn/metrics/_classification.py:1272: UndefinedMetricWarning: Precision and F-score are ill-defined and being set to 0.0 in labels with no predicted samples. Use `zero_division` parameter to control this behavior.\n",
            "  _warn_prf(average, modifier, msg_start, len(result))\n"
          ],
          "name": "stderr"
        }
      ]
    },
    {
      "cell_type": "code",
      "metadata": {
        "id": "hNpftmOlha2c",
        "colab_type": "code",
        "colab": {
          "base_uri": "https://localhost:8080/",
          "height": 619
        },
        "outputId": "ea397cb5-e8da-43d5-ef9e-7305a70b0427"
      },
      "source": [
        "print(model_DNN.history.history.keys())\n",
        "# summarize history for accuracy\n",
        "plt.plot(model_DNN.history.history['acc'])\n",
        "plt.plot(model_DNN.history.history['val_acc'])\n",
        "plt.title('model accuracy')\n",
        "plt.ylabel('accuracy')\n",
        "plt.xlabel('epoch')\n",
        "plt.legend(['train', 'valid'], loc='lower right')\n",
        "plt.show()\n",
        "# summarize history for loss\n",
        "plt.plot(model_DNN.history.history['loss'])\n",
        "plt.plot(model_DNN.history.history['val_loss'])\n",
        "plt.title('model loss')\n",
        "plt.ylabel('loss')\n",
        "plt.xlabel('epoch')\n",
        "plt.legend(['train', 'valid'], loc='lower right')"
      ],
      "execution_count": 74,
      "outputs": [
        {
          "output_type": "stream",
          "text": [
            "dict_keys(['val_loss', 'val_acc', 'loss', 'acc'])\n"
          ],
          "name": "stdout"
        },
        {
          "output_type": "display_data",
          "data": {
            "image/png": "[encoded data removed]",
            "text/plain": [
              "<Figure size 432x288 with 1 Axes>"
            ]
          },
          "metadata": {
            "tags": []
          }
        },
        {
          "output_type": "execute_result",
          "data": {
            "text/plain": [
              "<matplotlib.legend.Legend at 0x7f42cbe1de10>"
            ]
          },
          "metadata": {
            "tags": []
          },
          "execution_count": 74
        },
        {
          "output_type": "display_data",
          "data": {
            "image/png": "[encoded data removed]",
            "text/plain": [
              "<Figure size 432x288 with 1 Axes>"
            ]
          },
          "metadata": {
            "tags": []
          }
        }
      ]
    },
    {
      "cell_type": "code",
      "metadata": {
        "id": "4MilYKUxehUl",
        "colab_type": "code",
        "colab": {
          "base_uri": "https://localhost:8080/",
          "height": 34
        },
        "outputId": "f90cbd8a-d0f4-4292-dd58-047e6e4ad2f0"
      },
      "source": [
        "y_train"
      ],
      "execution_count": 57,
      "outputs": [
        {
          "output_type": "execute_result",
          "data": {
            "text/plain": [
              "array([-1, -1,  1, ...,  1,  1,  1])"
            ]
          },
          "metadata": {
            "tags": []
          },
          "execution_count": 57
        }
      ]
    },
    {
      "cell_type": "code",
      "metadata": {
        "id": "76TzPsoCijEx",
        "colab_type": "code",
        "colab": {}
      },
      "source": [
        ""
      ],
      "execution_count": 0,
      "outputs": []
    },
    {
      "cell_type": "code",
      "metadata": {
        "id": "jnkFU5Kqo-dE",
        "colab_type": "code",
        "colab": {}
      },
      "source": [
        ""
      ],
      "execution_count": 0,
      "outputs": []
    }
  ]
}